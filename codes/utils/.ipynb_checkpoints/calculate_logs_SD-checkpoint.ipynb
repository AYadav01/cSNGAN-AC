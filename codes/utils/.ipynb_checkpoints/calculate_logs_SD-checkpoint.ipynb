{
 "cells": [
  {
   "cell_type": "code",
   "execution_count": 85,
   "metadata": {},
   "outputs": [],
   "source": [
    "import numpy as np\n",
    "import os\n",
    "import h5py"
   ]
  },
  {
   "cell_type": "code",
   "execution_count": 86,
   "metadata": {},
   "outputs": [],
   "source": [
    "def calculate_stat(values, stat_type):\n",
    "    if stat_type == 'CI':\n",
    "        z_val = 1.96\n",
    "        mean_val = np.mean(values)\n",
    "        std = np.std(values)\n",
    "        err_margin = z_val*(std/np.sqrt(len(values)))\n",
    "        CI = (mean_val-err_margin, mean_val+err_margin)\n",
    "        return CI\n",
    "    elif stat_type == 'SD':\n",
    "        sd = float(\"{0:.4f}\".format(np.std(values)))\n",
    "        mean = float(\"{0:.4f}\".format(np.mean(values)))\n",
    "        return \"{} +- {}\".format(mean, sd)\n",
    "    else:\n",
    "        raise ValueError('Stat type not defined!')\n",
    "\n",
    "def _read_test_set(path_to_test):\n",
    "    data_dict = {}\n",
    "    for file in os.listdir(path_to_test):\n",
    "        if file.endswith('.h5'):\n",
    "            h5 = h5py.File(os.path.join(path_to_test, file), 'r')\n",
    "            if file.split('.h5')[0] not in data_dict:\n",
    "                data_dict[file.split('.h5')[0]] = h5['data'].shape[0]\n",
    "    return data_dict\n",
    "\n",
    "def _gather_data(data, metrics):\n",
    "    for slice_type in data:\n",
    "        given_lines = data[slice_type]\n",
    "        for line in given_lines:\n",
    "            str_of_interest = line.split('INFO:')[-1]\n",
    "            data_string = str_of_interest.split('-')[-1].strip()\n",
    "            psnr_val = float(data_string.split('PSNR:')[-1].split('dB')[0].strip())\n",
    "            ssim_val = float(data_string.split('SSIM:')[-1].split(';')[0].strip())\n",
    "            pdist_val = float(data_string.split('pdist:')[-1][:-1])\n",
    "            metrics['PSNR'][slice_type].append(psnr_val)\n",
    "            metrics['SSIM'][slice_type].append(ssim_val)\n",
    "            metrics['pdist'][slice_type].append(pdist_val)\n",
    "    return metrics\n",
    "\n",
    "def main_perline(test_log, path_to_test_set, start_at, stop_at, stat_type='SD'):\n",
    "    get_num_slices = _read_test_set(path_to_test_set)    \n",
    "    metrics = {\n",
    "                'PSNR':{'Ax':[], 'Co':[], 'Sag':[]}, \n",
    "                'SSIM':{'Ax':[], 'Co':[], 'Sag':[]}, \n",
    "                'pdist':{'Ax':[], 'Co':[], 'Sag':[]}\n",
    "              }\n",
    "    with open(test_log, 'r') as file:\n",
    "        lines = file.readlines()\n",
    "        lines = lines[start_at:stop_at]\n",
    "        start_at = 0      \n",
    "        for sub_index, subject in enumerate(get_num_slices):\n",
    "            lines_dict = {\n",
    "                            'Ax':lines[start_at: start_at+get_num_slices[subject]],\n",
    "                            'Co':lines[start_at+get_num_slices[subject]: start_at+get_num_slices[subject]+512], \n",
    "                            'Sag':lines[start_at+get_num_slices[subject]+512: start_at+get_num_slices[subject]+512*2]\n",
    "                          }\n",
    "            start_at = start_at +  get_num_slices[subject] + 512*2 + 3\n",
    "            metrics = _gather_data(lines_dict, metrics)\n",
    "        # calculate CI\n",
    "        for metric in metrics:\n",
    "            print('Calculating {} {}'.format(metric, stat_type))\n",
    "            print('-'*40)\n",
    "            for view in metrics[metric].keys():\n",
    "                print('{}: {}'.format(view, calculate_stat(metrics[metric][view], stat_type)))\n",
    "            print('='*40)"
   ]
  },
  {
   "cell_type": "code",
   "execution_count": 87,
   "metadata": {},
   "outputs": [
    {
     "name": "stdout",
     "output_type": "stream",
     "text": [
      "Calculating PSNR SD\n",
      "----------------------------------------\n",
      "Ax: 32.4978 +- 1.0229\n",
      "Co: 33.7595 +- 4.2488\n",
      "Sag: 32.7905 +- 1.9957\n",
      "========================================\n",
      "Calculating SSIM SD\n",
      "----------------------------------------\n",
      "Ax: 0.8304 +- 0.0289\n",
      "Co: 0.83 +- 0.0296\n",
      "Sag: 0.831 +- 0.0206\n",
      "========================================\n",
      "Calculating pdist SD\n",
      "----------------------------------------\n",
      "Ax: 0.2226 +- 0.0129\n",
      "Co: 0.2943 +- 0.053\n",
      "Sag: 0.2643 +- 0.0172\n",
      "========================================\n"
     ]
    }
   ],
   "source": [
    "sngan_log = '/workspace/NormGAN/results/SNGAN-AAPM/test.log_211019-212834.log' # (139, 16342)\n",
    "wgan_log = '/workspace/NormGAN/results/WGAN-AAPM/test.log_211020-131140.log' # (66, 16269)\n",
    "path_to_test_set = '/aapm_data/aapm_3d_lowdose_testset'\n",
    "# main(sngan_log, 'sngan')\n",
    "main_perline(wgan_log, path_to_test_set, 66, 16269) "
   ]
  },
  {
   "cell_type": "code",
   "execution_count": null,
   "metadata": {},
   "outputs": [],
   "source": []
  }
 ],
 "metadata": {
  "kernelspec": {
   "display_name": "Python 3",
   "language": "python",
   "name": "python3"
  },
  "language_info": {
   "codemirror_mode": {
    "name": "ipython",
    "version": 3
   },
   "file_extension": ".py",
   "mimetype": "text/x-python",
   "name": "python",
   "nbconvert_exporter": "python",
   "pygments_lexer": "ipython3",
   "version": "3.6.10"
  }
 },
 "nbformat": 4,
 "nbformat_minor": 4
}
